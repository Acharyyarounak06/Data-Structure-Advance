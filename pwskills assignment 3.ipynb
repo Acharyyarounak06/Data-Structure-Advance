{
 "cells": [
  {
   "cell_type": "code",
   "execution_count": null,
   "metadata": {},
   "outputs": [],
   "source": [
    "#Read the answers of given questions."
   ]
  },
  {
   "cell_type": "code",
   "execution_count": 3,
   "metadata": {},
   "outputs": [
    {
     "data": {
      "text/plain": [
       "'sllikswp'"
      ]
     },
     "execution_count": 3,
     "metadata": {},
     "output_type": "execute_result"
    }
   ],
   "source": [
    "# Q1)Write a code to reverse a string\n",
    "st=\"PWskills\"\n",
    "st[::-1]"
   ]
  },
  {
   "cell_type": "code",
   "execution_count": 7,
   "metadata": {},
   "outputs": [
    {
     "name": "stdout",
     "output_type": "stream",
     "text": [
      "Number of vowels: 7\n"
     ]
    }
   ],
   "source": [
    "# Q2) Write a code to count the number of vowels in a string\n",
    "# Input string\n",
    "input_string = \"This is an example string.\"\n",
    "\n",
    "# Initialize vowel count\n",
    "vowel_count = 0\n",
    "\n",
    "# List of vowels\n",
    "vowels = \"aeiouAEIOU\"\n",
    "\n",
    "# Iterate over each character in the string\n",
    "for char in input_string:\n",
    "    # Check if the character is a vowel\n",
    "    if char in vowels:\n",
    "        # Increment the vowel count\n",
    "        vowel_count += 1\n",
    "\n",
    "# Print the number of vowels\n",
    "print(\"Number of vowels:\", vowel_count)"
   ]
  },
  {
   "cell_type": "code",
   "execution_count": 3,
   "metadata": {},
   "outputs": [
    {
     "name": "stdout",
     "output_type": "stream",
     "text": [
      "Given string is palindrome\n"
     ]
    }
   ],
   "source": [
    "# Q3)Write a code to check if a given string is a palindrome or not.\n",
    "st=\"PWskills\"\n",
    "result=st[::-1]\n",
    "if st==result:\n",
    "    print(\"Given string is palindrome\")\n",
    "else:\n",
    "    print(\"Given string is not palindrome\")"
   ]
  },
  {
   "cell_type": "code",
   "execution_count": 4,
   "metadata": {},
   "outputs": [
    {
     "name": "stdout",
     "output_type": "stream",
     "text": [
      "Given string is palindrome\n"
     ]
    }
   ],
   "source": [
    "st=\"141\"\n",
    "result=st[::-1]\n",
    "if st==result:\n",
    "    print(\"Given string is palindrome\")\n",
    "else:\n",
    "    print(\"Given string is not palindrome\")"
   ]
  },
  {
   "cell_type": "code",
   "execution_count": 11,
   "metadata": {},
   "outputs": [
    {
     "name": "stdout",
     "output_type": "stream",
     "text": [
      "Given string is not anagrams of each other\n"
     ]
    }
   ],
   "source": [
    "# Q4) Write a code to check if two given strings are anagrams of each other.\n",
    "st1=\"PWskills\"       \n",
    "st2=\"Rounak\"\n",
    "result1= sorted(st1)\n",
    "result2= sorted(st2)\n",
    "if result1==result2:\n",
    "    print(\"Given string is anagrams of each other\")\n",
    "else:\n",
    "    print(\"Given string is not anagrams of each other\")"
   ]
  },
  {
   "cell_type": "code",
   "execution_count": 12,
   "metadata": {},
   "outputs": [
    {
     "name": "stdout",
     "output_type": "stream",
     "text": [
      "Given string is anagrams of each other\n"
     ]
    }
   ],
   "source": [
    "st1=\"PWskills\"       \n",
    "st2=\"PWskills\"\n",
    "result1= sorted(st1)\n",
    "result2= sorted(st2)\n",
    "if result1==result2:\n",
    "    print(\"Given string is anagrams of each other\")\n",
    "else:\n",
    "    print(\"Given string is not anagrams of each other\")"
   ]
  },
  {
   "cell_type": "code",
   "execution_count": 1,
   "metadata": {},
   "outputs": [
    {
     "name": "stdout",
     "output_type": "stream",
     "text": [
      "[10, 26, 68]\n"
     ]
    }
   ],
   "source": [
    "# Q5)Write a code to find all occurrences of a given substring within another string.\n",
    "import re\n",
    "def find_all_occurrences_re(string, substring):\n",
    "    matches = re.finditer(re.escape(substring), string)\n",
    "    occurrences = [match.start() for match in matches]\n",
    "    return occurrences\n",
    "\n",
    "# Example usage\n",
    "string = \"This is a test string for testing substring occurrences in a string test.\"\n",
    "substring = \"test\"\n",
    "print(find_all_occurrences_re(string, substring))\n"
   ]
  },
  {
   "cell_type": "code",
   "execution_count": 1,
   "metadata": {},
   "outputs": [
    {
     "name": "stdout",
     "output_type": "stream",
     "text": [
      "Compressed string: a3b2c4d1a2\n"
     ]
    }
   ],
   "source": [
    "# Q6) Write a code to perform basic string compression using the counts of repeated characters.\n",
    "# Input string\n",
    "input_string = \"aaabbccccdaa\"\n",
    "\n",
    "# Initialize an empty result string\n",
    "compressed_string = \"\"\n",
    "\n",
    "# Initialize count for repeated characters\n",
    "count = 1\n",
    "\n",
    "# Iterate through the string\n",
    "for i in range(1, len(input_string)):\n",
    "    # Check if the current character is the same as the previous one\n",
    "    if input_string[i] == input_string[i - 1]:\n",
    "        count += 1\n",
    "    else:\n",
    "        # Append the previous character and its count to the result\n",
    "        compressed_string += input_string[i - 1] + str(count)\n",
    "        # Reset count for the new character\n",
    "        count = 1\n",
    "\n",
    "# Append the last character and its count\n",
    "compressed_string += input_string[-1] + str(count)\n",
    "\n",
    "# Print the compressed string\n",
    "print(\"Compressed string:\", compressed_string)"
   ]
  },
  {
   "cell_type": "code",
   "execution_count": 3,
   "metadata": {},
   "outputs": [
    {
     "name": "stdout",
     "output_type": "stream",
     "text": [
      "The string does not have all unique characters.\n"
     ]
    }
   ],
   "source": [
    "# Q7) Write a code to determine if a string has all unique characters.\n",
    "# Input string\n",
    "input_string = \"PWskills\"\n",
    "\n",
    "# Convert the input string to a set to get unique characters\n",
    "unique_characters = set(input_string)\n",
    "\n",
    "# Check if the length of the set is equal to the length of the input string\n",
    "if len(unique_characters) == len(input_string):\n",
    "    print(\"The string has all unique characters.\")\n",
    "else:\n",
    "    print(\"The string does not have all unique characters.\")"
   ]
  },
  {
   "cell_type": "code",
   "execution_count": 4,
   "metadata": {},
   "outputs": [
    {
     "data": {
      "text/plain": [
       "'PWSKILLS'"
      ]
     },
     "execution_count": 4,
     "metadata": {},
     "output_type": "execute_result"
    }
   ],
   "source": [
    "# Q8) Write a code to convert a given string to uppercase or lowercase.\n",
    "# Uppercase\n",
    "st=\"PWskills\"\n",
    "st.upper()"
   ]
  },
  {
   "cell_type": "code",
   "execution_count": 5,
   "metadata": {},
   "outputs": [
    {
     "data": {
      "text/plain": [
       "'pwskills'"
      ]
     },
     "execution_count": 5,
     "metadata": {},
     "output_type": "execute_result"
    }
   ],
   "source": [
    "# Lowercase\n",
    "st.lower()"
   ]
  },
  {
   "cell_type": "code",
   "execution_count": 1,
   "metadata": {},
   "outputs": [
    {
     "data": {
      "text/plain": [
       "2"
      ]
     },
     "execution_count": 1,
     "metadata": {},
     "output_type": "execute_result"
    }
   ],
   "source": [
    "# Q9) Write a code to count the number of words in a string.\n",
    "st=\"Hello, PWskills\"\n",
    "word=st.split()\n",
    "len(word)"
   ]
  },
  {
   "cell_type": "code",
   "execution_count": 5,
   "metadata": {},
   "outputs": [
    {
     "data": {
      "text/plain": [
       "'Hello PWskills'"
      ]
     },
     "execution_count": 5,
     "metadata": {},
     "output_type": "execute_result"
    }
   ],
   "source": [
    "# Q10) Write a code to concatenate two strings without using the + operator.\n",
    "st1=\"Hello\"\n",
    "st2=\"PWskills\"\n",
    "result= \" \".join([st1, st2])\n",
    "result"
   ]
  },
  {
   "cell_type": "code",
   "execution_count": 6,
   "metadata": {},
   "outputs": [
    {
     "name": "stdout",
     "output_type": "stream",
     "text": [
      "List after removal: [1, 3, 4, 5, 6]\n"
     ]
    }
   ],
   "source": [
    "# Q11) Write a code to remove all occurrences of a specific element from a list.\n",
    "def remove_all_occurrences(lst, element):\n",
    "    # Create a new list with all elements except the specified one\n",
    "    return [x for x in lst if x != element]\n",
    "\n",
    "# Example usage\n",
    "my_list = [1, 2, 3, 4, 2, 5, 2, 6]\n",
    "element_to_remove = 2\n",
    "new_list = remove_all_occurrences(my_list, element_to_remove)\n",
    "print(\"List after removal:\", new_list)"
   ]
  },
  {
   "cell_type": "code",
   "execution_count": 7,
   "metadata": {},
   "outputs": [
    {
     "name": "stdout",
     "output_type": "stream",
     "text": [
      "The second largest number is: 4\n"
     ]
    }
   ],
   "source": [
    "# Q12) Implement a code to find the second largest number in a given list of integers.\n",
    "def find_second_largest(numbers):\n",
    "    # Remove duplicates by converting the list to a set\n",
    "    unique_numbers = set(numbers)\n",
    "    \n",
    "    # Check if there are at least two unique numbers\n",
    "    if len(unique_numbers) < 2:\n",
    "        return None  # Return None if there's no second largest number\n",
    "    \n",
    "    # Convert the set back to a list and sort it\n",
    "    sorted_numbers = sorted(unique_numbers, reverse=True)\n",
    "    \n",
    "    # Return the second largest number\n",
    "    return sorted_numbers[1]\n",
    "\n",
    "# Example usage\n",
    "numbers = [4, 1, 5, 2, 3, 5, 4]\n",
    "second_largest = find_second_largest(numbers)\n",
    "if second_largest is not None:\n",
    "    print(\"The second largest number is:\", second_largest)\n",
    "else:\n",
    "    print(\"There is no second largest number.\")"
   ]
  },
  {
   "cell_type": "code",
   "execution_count": 8,
   "metadata": {},
   "outputs": [
    {
     "name": "stdout",
     "output_type": "stream",
     "text": [
      "Occurrences using manual method: {1: 1, 2: 2, 3: 1, 4: 3, 5: 1}\n"
     ]
    }
   ],
   "source": [
    "# Q13) Create a code to count the occurrences of each element in a list and return a dictionary with elements as keys and their counts as values in python.\n",
    "def count_occurrences_manual(lst):\n",
    "    # Initialize an empty dictionary\n",
    "    counts = {}\n",
    "    \n",
    "    # Iterate through each element in the list\n",
    "    for element in lst:\n",
    "        # If the element is already in the dictionary, increment its count\n",
    "        if element in counts:\n",
    "            counts[element] += 1\n",
    "        # If the element is not in the dictionary, add it with a count of 1\n",
    "        else:\n",
    "            counts[element] = 1\n",
    "            \n",
    "    return counts\n",
    "\n",
    "# Example usage\n",
    "my_list = [1, 2, 2, 3, 4, 4, 4, 5]\n",
    "occurrences_manual = count_occurrences_manual(my_list)\n",
    "print(\"Occurrences using manual method:\", occurrences_manual)\n"
   ]
  },
  {
   "cell_type": "code",
   "execution_count": 9,
   "metadata": {},
   "outputs": [
    {
     "data": {
      "text/plain": [
       "[7, 6, 5, 4, 3, 2, 1]"
      ]
     },
     "execution_count": 9,
     "metadata": {},
     "output_type": "execute_result"
    }
   ],
   "source": [
    "# Q14) Write a code to reverse a list in-place without using any built-in reverse functions.\n",
    "li=[1,2,3,4,5,6,7]\n",
    "result=li[::-1]\n",
    "result"
   ]
  },
  {
   "cell_type": "code",
   "execution_count": 10,
   "metadata": {},
   "outputs": [
    {
     "name": "stdout",
     "output_type": "stream",
     "text": [
      "List without duplicates: [1, 2, 3, 4, 5, 6, 7]\n"
     ]
    }
   ],
   "source": [
    "# Q15) Implement a code to find and remove duplicates from a list while preserving the original order of elements.\n",
    "# Define the list with potential duplicates\n",
    "original_list = [1, 2, 2, 3, 4, 4, 5, 6, 6, 7]\n",
    "\n",
    "# Initialize an empty list to store unique elements\n",
    "unique_list = []\n",
    "\n",
    "# Initialize a set to keep track of seen elements\n",
    "seen = set()\n",
    "\n",
    "# Iterate over each element in the original list\n",
    "for element in original_list:\n",
    "    # If the element is not in the seen set, it is unique\n",
    "    if element not in seen:\n",
    "        # Add the element to the unique list\n",
    "        unique_list.append(element)\n",
    "        # Mark the element as seen\n",
    "        seen.add(element)\n",
    "\n",
    "# Print the list without duplicates\n",
    "print(\"List without duplicates:\", unique_list)"
   ]
  },
  {
   "cell_type": "code",
   "execution_count": 14,
   "metadata": {},
   "outputs": [
    {
     "name": "stdout",
     "output_type": "stream",
     "text": [
      "The list is sorted in ascending order.\n"
     ]
    }
   ],
   "source": [
    "# Q16) Create a code to check if a given list is sorted (either in ascending or descending order) or not.\n",
    "# Sample list\n",
    "my_list = [1, 2, 3, 4, 5]\n",
    "\n",
    "# Initialize variables to track sorting order\n",
    "is_ascending = True\n",
    "is_descending = True\n",
    "\n",
    "# Iterate over the list to check sorting order\n",
    "for i in range(len(my_list) - 1):\n",
    "    if my_list[i] < my_list[i + 1]:\n",
    "        is_descending = False\n",
    "    elif my_list[i] > my_list[i + 1]:\n",
    "        is_ascending = False\n",
    "\n",
    "# Determine and print the sorting order\n",
    "if is_ascending:\n",
    "    print(\"The list is sorted in ascending order.\")\n",
    "elif is_descending:\n",
    "    print(\"The list is sorted in descending order.\")\n",
    "else:\n",
    "    print(\"The list is not sorted.\")"
   ]
  },
  {
   "cell_type": "code",
   "execution_count": 25,
   "metadata": {},
   "outputs": [
    {
     "name": "stdout",
     "output_type": "stream",
     "text": [
      "Merged sorted list: [1, 2, 3, 4, 5, 6, 7, 8]\n"
     ]
    }
   ],
   "source": [
    "# Q17) Write a code to merge two sorted lists into a single sorted list.\n",
    "# Two sorted lists\n",
    "list1 = [1, 3, 5, 7]\n",
    "list2 = [2, 4, 6, 8]\n",
    "\n",
    "# Initialize pointers for both lists\n",
    "i, j = 0, 0\n",
    "\n",
    "# Initialize the result list for the merged output\n",
    "merged_list = []\n",
    "\n",
    "# Iterate over both lists and merge them\n",
    "while i < len(list1) and j < len(list2):\n",
    "    if list1[i] < list2[j]:\n",
    "        # If the current element of list1 is smaller, add it to the merged list\n",
    "        merged_list.append(list1[i])\n",
    "        i += 1\n",
    "    else:\n",
    "        # If the current element of list2 is smaller or equal, add it to the merged list\n",
    "        merged_list.append(list2[j])\n",
    "        j += 1\n",
    "\n",
    "# If there are remaining elements in list1, add them to the merged list\n",
    "while i < len(list1):\n",
    "    merged_list.append(list1[i])\n",
    "    i += 1\n",
    "\n",
    "# If there are remaining elements in list2, add them to the merged list\n",
    "while j < len(list2):\n",
    "    merged_list.append(list2[j])\n",
    "    j += 1\n",
    "\n",
    "# Print the merged sorted list\n",
    "print(\"Merged sorted list:\", merged_list)\n"
   ]
  },
  {
   "cell_type": "code",
   "execution_count": 28,
   "metadata": {},
   "outputs": [
    {
     "name": "stdout",
     "output_type": "stream",
     "text": [
      "[1, 2, 3, 4, 6] [8, 6, 2, 5, 7]\n",
      "{1, 2, 3, 4, 6} {2, 5, 6, 7, 8}\n"
     ]
    },
    {
     "data": {
      "text/plain": [
       "{2, 6}"
      ]
     },
     "execution_count": 28,
     "metadata": {},
     "output_type": "execute_result"
    }
   ],
   "source": [
    "# Q18)  Implement a code to find the intersection of two given lists.\n",
    "li1=[1,2,3,4,6]\n",
    "li2=[8,6,2,5,7]\n",
    "print(li1,li2)\n",
    "set1= set(li1)\n",
    "set2= set(li2)\n",
    "print(set1,set2)\n",
    "set1.intersection(set2)"
   ]
  },
  {
   "cell_type": "code",
   "execution_count": 31,
   "metadata": {},
   "outputs": [
    {
     "name": "stdout",
     "output_type": "stream",
     "text": [
      "[1, 2, 2, 3, 3, 3, 4] [5, 6, 6, 7, 7, 7, 8]\n",
      "{1, 2, 3, 4} {8, 5, 6, 7}\n"
     ]
    },
    {
     "data": {
      "text/plain": [
       "{1, 2, 3, 4, 5, 6, 7, 8}"
      ]
     },
     "execution_count": 31,
     "metadata": {},
     "output_type": "execute_result"
    }
   ],
   "source": [
    "# Q19) Create a code to find the union of two lists without duplicates.\n",
    "li1=[1,2,2,3,3,3,4]\n",
    "li2=[5,6,6,7,7,7,8]\n",
    "print(li1,li2)\n",
    "set1=set(li1)\n",
    "set2=set(li2)\n",
    "print(set1,set2)\n",
    "set1.union(set2)"
   ]
  },
  {
   "cell_type": "code",
   "execution_count": 32,
   "metadata": {},
   "outputs": [
    {
     "name": "stdout",
     "output_type": "stream",
     "text": [
      "[3, 1, 4, 2, 5]\n"
     ]
    }
   ],
   "source": [
    "# Q20)  Write a code to shuffle a given list randomly without using any built-in shuffle functions.\n",
    "import random\n",
    "\n",
    "def fisher_yates_shuffle(lst):\n",
    "    # Get the length of the list\n",
    "    n = len(lst)\n",
    "    \n",
    "    # Go through the list in reverse order\n",
    "    for i in range(n - 1, 0, -1):\n",
    "        # Generate a random index from 0 to i\n",
    "        j = random.randint(0, i)\n",
    "        \n",
    "        # Swap the elements at index i and j\n",
    "        lst[i], lst[j] = lst[j], lst[i]\n",
    "    \n",
    "    return lst\n",
    "\n",
    "# Example usage\n",
    "my_list = [1, 2, 3, 4, 5]\n",
    "shuffled_list = fisher_yates_shuffle(my_list)\n",
    "print(shuffled_list)"
   ]
  },
  {
   "cell_type": "code",
   "execution_count": 3,
   "metadata": {},
   "outputs": [
    {
     "name": "stdout",
     "output_type": "stream",
     "text": [
      "(1, 2, 8, 9, 5) (8, 9, 10, 2, 1)\n",
      "{1, 2, 5, 8, 9} {1, 2, 8, 9, 10}\n"
     ]
    },
    {
     "data": {
      "text/plain": [
       "{1, 2, 8, 9}"
      ]
     },
     "execution_count": 3,
     "metadata": {},
     "output_type": "execute_result"
    }
   ],
   "source": [
    "# Q21) Write a code that takes two tuples as input and returns a new tuple containing elements that are common to both input tuples\n",
    "tup1=(1,2,8,9,5)\n",
    "tup2=(8,9,10,2,1)\n",
    "print(tup1,tup2)\n",
    "set1=set(tup1)\n",
    "set2=set(tup2)\n",
    "print(set1,set2)\n",
    "common_elements=set1.intersection(set2)\n",
    "common_elements"
   ]
  },
  {
   "cell_type": "code",
   "execution_count": 1,
   "metadata": {},
   "outputs": [],
   "source": [
    "# Q22) Create a code that prompts the user to enter two sets of integers separated by commas. Then, print the intersection of these two sets.\n",
    "# Prompt user for input and split the input by commas to get list of numbers\n",
    "set1_input = input(\"Enter the first set of integers, separated by commas: \")\n",
    "set2_input = input(\"Enter the second set of integers, separated by commas: \")\n",
    "\n",
    "# Convert input strings to lists of integers\n",
    "set1_list = [int(x) for x in set1_input.split(\",\")]\n",
    "set2_list = [int(x) for x in set2_input.split(\",\")]\n",
    "\n",
    "# Initialize an empty list for the intersection\n",
    "intersection = []\n",
    "\n",
    "# Find the intersection by iterating through both lists\n",
    "for num in set1_list:\n",
    "    if num in set2_list and num not in intersection:\n",
    "        intersection.append(num)\n",
    "\n",
    "# Print the intersection\n",
    "print(\"The intersection of the two sets is:\", intersection)"
   ]
  },
  {
   "cell_type": "code",
   "execution_count": 2,
   "metadata": {},
   "outputs": [
    {
     "name": "stdout",
     "output_type": "stream",
     "text": [
      "(1, 2, 3, 4, 5, 6)\n"
     ]
    }
   ],
   "source": [
    "# Q23) Write a code to concatenate two tuples. The function should take two tuples as input and return a new tuple containing elements from both input tuples\n",
    "def concatenate_tuples(tuple1, tuple2):\n",
    "\n",
    "    return tuple1 + tuple2\n",
    "\n",
    "# Example usage:\n",
    "tuple_a = (1, 2, 3)\n",
    "tuple_b = (4, 5, 6)\n",
    "result = concatenate_tuples(tuple_a, tuple_b)\n",
    "print(result)  # Output: (1, 2, 3, 4, 5, 6)"
   ]
  },
  {
   "cell_type": "code",
   "execution_count": 3,
   "metadata": {},
   "outputs": [],
   "source": [
    "# Q24) Develop a code that prompts the user to input two sets of strings. Then, print the elements that are present in the first set but not in the second set.\n",
    "# Prompt the user to input two sets of strings\n",
    "first_set_input = input(\"Enter the elements of the first set, separated by spaces: \")\n",
    "second_set_input = input(\"Enter the elements of the second set, separated by spaces: \")\n",
    "\n",
    "# Split the input strings into lists of elements\n",
    "first_set_list = first_set_input.split()\n",
    "second_set_list = second_set_input.split()\n",
    "\n",
    "# Create empty lists to store unique elements\n",
    "unique_elements = []\n",
    "\n",
    "# Iterate over the first set and add elements to unique_elements if they are not in the second set\n",
    "for element in first_set_list:\n",
    "    if element not in second_set_list:\n",
    "        unique_elements.append(element)\n",
    "\n",
    "# Print the unique elements\n",
    "print(\"Elements in the first set but not in the second set:\")\n",
    "print(\" \".join(unique_elements))"
   ]
  },
  {
   "cell_type": "code",
   "execution_count": 1,
   "metadata": {},
   "outputs": [
    {
     "name": "stdout",
     "output_type": "stream",
     "text": [
      "(3, 4, 5, 6, 7)\n"
     ]
    }
   ],
   "source": [
    "# Q25) Create a code that takes a tuple and two integers as input. The function should return a new tuple containing elements from the original tuple within the specified range of indices.\n",
    "def slice_tuple(original_tuple, start_index, end_index):\n",
    "    # Create a new tuple containing elements from start_index to end_index (exclusive)\n",
    "    new_tuple = original_tuple[start_index:end_index]\n",
    "    return new_tuple\n",
    "\n",
    "# Example usage\n",
    "original_tuple = (1, 2, 3, 4, 5, 6, 7, 8, 9, 10)\n",
    "start_index = 2\n",
    "end_index = 7\n",
    "\n",
    "result = slice_tuple(original_tuple, start_index, end_index)\n",
    "print(result)  # Output: (3, 4, 5, 6, 7)"
   ]
  },
  {
   "cell_type": "code",
   "execution_count": 5,
   "metadata": {},
   "outputs": [
    {
     "name": "stdout",
     "output_type": "stream",
     "text": [
      "Welcome to PWskills\n",
      "{'Welcome', 'to'} {'PWskills'}\n"
     ]
    },
    {
     "data": {
      "text/plain": [
       "{'PWskills', 'Welcome', 'to'}"
      ]
     },
     "execution_count": 5,
     "metadata": {},
     "output_type": "execute_result"
    }
   ],
   "source": [
    "# Q26) Write a code that prompts the user to input two sets of characters. Then, print the union of these two sets.\n",
    "c1=\"Welcome to\"\n",
    "c2=\"PWskills\"\n",
    "print(c1,c2)\n",
    "set1=set(c1.split())\n",
    "set2=set(c2.split())\n",
    "print(set1,set2)\n",
    "result= set1.union(set2)\n",
    "result"
   ]
  },
  {
   "cell_type": "code",
   "execution_count": 6,
   "metadata": {},
   "outputs": [
    {
     "name": "stdout",
     "output_type": "stream",
     "text": [
      "Maximum value: 9\n",
      "Minimum value: 1\n"
     ]
    }
   ],
   "source": [
    "# Q27) Develop a code that takes a tuple of integers as input. The function should return the maximum and minimum values from the tuple using tuple unpacking.\n",
    "def find_max_min(numbers):\n",
    "    # Initialize max and min with the first element of the tuple\n",
    "    max_value, min_value = numbers[0], numbers[0]\n",
    "\n",
    "    # Iterate over the tuple starting from the second element\n",
    "    for number in numbers[1:]:\n",
    "        # Update max_value and min_value if necessary\n",
    "        if number > max_value:\n",
    "            max_value = number\n",
    "        if number < min_value:\n",
    "            min_value = number\n",
    "\n",
    "    # Return max and min values using tuple unpacking\n",
    "    return (max_value, min_value)\n",
    "\n",
    "# Example usage\n",
    "numbers_tuple = (3, 1, 4, 1, 5, 9, 2, 6, 5, 3, 5)\n",
    "max_value, min_value = find_max_min(numbers_tuple)\n",
    "\n",
    "print(\"Maximum value:\", max_value)  \n",
    "print(\"Minimum value:\", min_value)  "
   ]
  },
  {
   "cell_type": "code",
   "execution_count": 7,
   "metadata": {},
   "outputs": [
    {
     "name": "stdout",
     "output_type": "stream",
     "text": [
      "{10, 11, 12, 13, 15} {16, 17, 18, 11, 12}\n",
      "{10, 11, 12, 13, 15, 16, 17, 18}\n",
      "{11, 12}\n",
      "{10, 13, 15}\n"
     ]
    }
   ],
   "source": [
    "# Q28) Create a code that defines two sets of integers. Then, print the union, intersection, and difference of these two sets.\n",
    "s1={10,11,12,13,15}\n",
    "s2={11,12,16,17,18}\n",
    "print(s1,s2)\n",
    "print(s1.union(s2))\n",
    "print(s1.intersection(s2))\n",
    "print(s1.difference(s2))"
   ]
  },
  {
   "cell_type": "code",
   "execution_count": 8,
   "metadata": {},
   "outputs": [
    {
     "data": {
      "text/plain": [
       "3"
      ]
     },
     "execution_count": 8,
     "metadata": {},
     "output_type": "execute_result"
    }
   ],
   "source": [
    "# 29) Write a code that takes a tuple and an element as input. The function should return the count of occurrences of the given element in the tuple.\n",
    "tup=(11,12,12,12,13,13,14)\n",
    "tup.count(12)"
   ]
  },
  {
   "cell_type": "code",
   "execution_count": 9,
   "metadata": {},
   "outputs": [
    {
     "name": "stdout",
     "output_type": "stream",
     "text": [
      "{'PWskills'} {'CLASS', 'BYTE'}\n"
     ]
    },
    {
     "data": {
      "text/plain": [
       "{'BYTE', 'CLASS', 'PWskills'}"
      ]
     },
     "execution_count": 9,
     "metadata": {},
     "output_type": "execute_result"
    }
   ],
   "source": [
    "# Q30) Develop a code that prompts the user to input two sets of strings. Then, print the symmetric difference of these two sets.\n",
    "s1=\"PWskills\" \n",
    "s2=\"BYTE CLASS\"\n",
    "set1=set(s1.split())\n",
    "set2=set(s2.split())\n",
    "print(set1,set2)\n",
    "result=set1.symmetric_difference(set2)\n",
    "result"
   ]
  },
  {
   "cell_type": "code",
   "execution_count": 10,
   "metadata": {},
   "outputs": [
    {
     "name": "stdout",
     "output_type": "stream",
     "text": [
      "{'apple': 3, 'banana': 2, 'orange': 1}\n"
     ]
    }
   ],
   "source": [
    "# Q31) Write a code that takes a list of words as input and returns a dictionary where the keys are unique words and the values are the frequencies of those words in the input list.\n",
    "def word_frequencies(word_list):\n",
    "    # Initialize an empty dictionary to store word frequencies\n",
    "    frequency_dict = {}\n",
    "    \n",
    "    # Iterate over each word in the list\n",
    "    for word in word_list:\n",
    "        # If the word is already in the dictionary, increment its frequency\n",
    "        if word in frequency_dict:\n",
    "            frequency_dict[word] += 1\n",
    "        # If the word is not in the dictionary, add it with a frequency of 1\n",
    "        else:\n",
    "            frequency_dict[word] = 1\n",
    "            \n",
    "    # Return the dictionary containing word frequencies\n",
    "    return frequency_dict\n",
    "\n",
    "# Example usage\n",
    "words = [\"apple\", \"banana\", \"apple\", \"orange\", \"banana\", \"apple\"]\n",
    "frequencies = word_frequencies(words)\n",
    "print(frequencies) "
   ]
  },
  {
   "cell_type": "code",
   "execution_count": 1,
   "metadata": {},
   "outputs": [
    {
     "name": "stdout",
     "output_type": "stream",
     "text": [
      "{'a': 1, 'b': 5, 'c': 7, 'd': 5}\n"
     ]
    }
   ],
   "source": [
    "# Q32) Write a code that takes two dictionaries as input and merges them into a single dictionary. If there are common keys, the values should be added together.\n",
    "def merge_dictionaries(dict1, dict2):\n",
    "    merged_dict = dict1.copy()\n",
    "\n",
    "    for key, value in dict2.items():\n",
    "        if key in merged_dict:\n",
    "            merged_dict[key] += value\n",
    "        else:\n",
    "            merged_dict[key] = value\n",
    "\n",
    "    return merged_dict\n",
    "\n",
    "# Example usage:\n",
    "dict1 = {'a': 1, 'b': 2, 'c': 3}\n",
    "dict2 = {'b': 3, 'c': 4, 'd': 5}\n",
    "\n",
    "result = merge_dictionaries(dict1, dict2)\n",
    "print(result)"
   ]
  },
  {
   "cell_type": "code",
   "execution_count": 2,
   "metadata": {},
   "outputs": [
    {
     "name": "stdout",
     "output_type": "stream",
     "text": [
      "42\n",
      "None\n"
     ]
    }
   ],
   "source": [
    "# Q33) Write a code to access a value in a nested dictionary. The function should take the dictionary and a list of keys as input, and return the corresponding value. If any of the keys do not exist in the dictionary, the function should return None.\n",
    "def get_nested_value(d, keys):\n",
    "    current_value = d\n",
    "    for key in keys:\n",
    "        if isinstance(current_value, dict) and key in current_value:\n",
    "            current_value = current_value[key]\n",
    "        else:\n",
    "            return None\n",
    "    return current_value\n",
    "\n",
    "# Example usage:\n",
    "nested_dict = {\n",
    "    'a': {\n",
    "        'b': {\n",
    "            'c': 42\n",
    "        }\n",
    "    }\n",
    "}\n",
    "\n",
    "keys = ['a', 'b', 'c']\n",
    "value = get_nested_value(nested_dict, keys)\n",
    "print(value) \n",
    "\n",
    "keys = ['a', 'b', 'd']\n",
    "value = get_nested_value(nested_dict, keys)\n",
    "print(value) "
   ]
  },
  {
   "cell_type": "code",
   "execution_count": 3,
   "metadata": {},
   "outputs": [
    {
     "name": "stdout",
     "output_type": "stream",
     "text": [
      "{'banana': 1, 'cherry': 2, 'apple': 3}\n",
      "{'apple': 3, 'cherry': 2, 'banana': 1}\n"
     ]
    }
   ],
   "source": [
    "# Q34)Write a code that takes a dictionary as input and returns a sorted version of it based on the values. You can choose whether to sort in ascending or descending order.\n",
    "def sort_dict_by_values(d, descending=False):\n",
    "    # Sort the dictionary by its values\n",
    "    sorted_items = sorted(d.items(), key=lambda item: item[1], reverse=descending)\n",
    "    # Convert the sorted items back into a dictionary\n",
    "    sorted_dict = dict(sorted_items)\n",
    "    return sorted_dict\n",
    "\n",
    "# Example usage:\n",
    "my_dict = {'apple': 3, 'banana': 1, 'cherry': 2}\n",
    "\n",
    "# Sort in ascending order\n",
    "sorted_dict_asc = sort_dict_by_values(my_dict)\n",
    "print(sorted_dict_asc)\n",
    "\n",
    "# Sort in descending order\n",
    "sorted_dict_desc = sort_dict_by_values(my_dict, descending=True)\n",
    "print(sorted_dict_desc)"
   ]
  },
  {
   "cell_type": "code",
   "execution_count": 4,
   "metadata": {},
   "outputs": [
    {
     "name": "stdout",
     "output_type": "stream",
     "text": [
      "{1: ['a', 'c'], 2: ['b'], 3: ['d']}\n"
     ]
    }
   ],
   "source": [
    "# Q35) Write a code that inverts a dictionary, swapping keys and values. Ensure that the inverted dictionary correctly handles cases where multiple keys have the same value by storing the keys as a list in the inverted dictionary.\n",
    "def invert_dictionary(d):\n",
    "    inverted_dict = {}\n",
    "    for key, value in d.items():\n",
    "        if value in inverted_dict:\n",
    "            inverted_dict[value].append(key)\n",
    "        else:\n",
    "            inverted_dict[value] = [key]\n",
    "    return inverted_dict\n",
    "\n",
    "# Example usage:\n",
    "original_dict = {'a': 1, 'b': 2, 'c': 1, 'd': 3}\n",
    "\n",
    "inverted_dict = invert_dictionary(original_dict)\n",
    "print(inverted_dict)"
   ]
  }
 ],
 "metadata": {
  "kernelspec": {
   "display_name": "Python 3",
   "language": "python",
   "name": "python3"
  },
  "language_info": {
   "codemirror_mode": {
    "name": "ipython",
    "version": 3
   },
   "file_extension": ".py",
   "mimetype": "text/x-python",
   "name": "python",
   "nbconvert_exporter": "python",
   "pygments_lexer": "ipython3",
   "version": "3.12.2"
  }
 },
 "nbformat": 4,
 "nbformat_minor": 2
}
